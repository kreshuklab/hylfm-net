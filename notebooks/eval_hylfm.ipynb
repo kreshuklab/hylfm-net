{
 "cells": [
  {
   "cell_type": "code",
   "execution_count": null,
   "metadata": {},
   "outputs": [],
   "source": [
    "%load_ext autoreload\n",
    "%autoreload 2\n",
    "\n",
    "from pathlib import Path\n",
    "from pprint import pprint\n",
    "\n",
    "import numpy\n",
    "import pandas\n",
    "# import napari\n",
    "import seaborn\n",
    "import torch\n",
    "from imageio import imread\n",
    "from ruamel.yaml import YAML\n",
    "from tqdm import tqdm\n",
    "\n",
    "from hylfm.eval.metrics import compute_metrics_individually, init_metrics\n",
    "\n",
    "yaml = YAML(typ=\"safe\")\n",
    "\n",
    "# import matplotlib.pyplot as plt"
   ]
  },
  {
   "cell_type": "code",
   "execution_count": null,
   "metadata": {},
   "outputs": [],
   "source": [
    "root = Path(\"/g/kreshuk/beuttenm/pycharm_tmp/repos/hylfm-net/logs/train/heart/z_out49/growdynds_f4/20-11-02_11-41-23\")\n",
    "# root = Path(\"/mnt/c/Users/fbeut/Desktop/lnet_stuff/growdynds\")\n",
    "zmod = 209\n",
    "test_stage_dirs = sorted(root.glob(\"test_dynamic_*/\"))\n",
    "\n",
    "pprint([p.name for p in test_stage_dirs])"
   ]
  },
  {
   "cell_type": "code",
   "execution_count": null,
   "outputs": [],
   "source": [
    "metrics_config = yaml.load(Path(\"/g/kreshuk/beuttenm/pycharm_tmp/repos/hylfm-net/configs/metrics/heart_dynamic.yml\"))\n",
    "metrics_instances = init_metrics(metrics_config)"
   ],
   "metadata": {
    "collapsed": false,
    "pycharm": {
     "name": "#%%\n"
    }
   }
  },
  {
   "cell_type": "code",
   "execution_count": null,
   "metadata": {},
   "outputs": [],
   "source": [
    "assert root.exists(), root\n",
    "ls_slices = numpy.stack([imread(p) for p in sorted(test_stage_dirs[0].glob(\"run000/ds0-0/ls_slice/*.tif\"))])\n",
    "print(ls_slices.shape)\n",
    "assert (ls_slices.shape[0] % zmod) == 0\n",
    "all_preds = []\n",
    "for test_stage_dir in tqdm(test_stage_dirs):\n",
    "    preds = numpy.stack([imread(p) for p in sorted(test_stage_dir.glob(\"run000/ds0-0/pred/*.tif\"))])\n",
    "    assert preds.shape == ls_slices.shape\n",
    "    all_preds.append(preds)"
   ]
  },
  {
   "cell_type": "code",
   "execution_count": null,
   "metadata": {},
   "outputs": [],
   "source": [
    "data = None\n",
    "for pred_nr, preds in enumerate(tqdm(all_preds)):\n",
    "    for step, (pred, ls_slice) in enumerate(zip(preds, ls_slices)):\n",
    "        # add batch and channel dim\n",
    "        pred = pred[None, None]\n",
    "        ls_slice = ls_slice[None, None]\n",
    "\n",
    "        tensors = {\"pred\": torch.from_numpy(pred), \"ls_slice\": torch.from_numpy(ls_slice)}\n",
    "        computed_metrics = {k: m.value for k, m in compute_metrics_individually(metrics_instances, tensors).items()}\n",
    "        computed_metrics[\"step\"] = step\n",
    "        computed_metrics[\"z\"] = step % zmod\n",
    "        computed_metrics[\"pred_nr\"] = pred_nr\n",
    "        if data is None:\n",
    "            data = {k: [v] for k, v in computed_metrics.items()}\n",
    "        else:\n",
    "            for mk, mv in computed_metrics.items():\n",
    "                data[mk].append(mv)"
   ]
  },
  {
   "cell_type": "code",
   "execution_count": null,
   "metadata": {},
   "outputs": [],
   "source": [
    "df = pandas.DataFrame.from_dict(data)\n",
    "df.tail()"
   ]
  },
  {
   "cell_type": "code",
   "execution_count": null,
   "metadata": {},
   "outputs": [],
   "source": [
    "nbins = 8\n",
    "df['z_bin'] = pandas.cut(df['z'], bins=nbins, labels=numpy.arange(nbins))\n",
    "df.head()"
   ]
  },
  {
   "cell_type": "code",
   "execution_count": null,
   "outputs": [],
   "source": [
    "# df_bins = df.groupby([\"z_bin\", \"pred_nr\"]).mean().reset_index()\n",
    "# df_bins.head()"
   ],
   "metadata": {
    "collapsed": false,
    "pycharm": {
     "name": "#%%\n"
    }
   }
  },
  {
   "cell_type": "code",
   "execution_count": null,
   "outputs": [],
   "source": [
    "seaborn.set_style(\"darkgrid\")"
   ],
   "metadata": {
    "collapsed": false,
    "pycharm": {
     "name": "#%%\n"
    }
   }
  },
  {
   "cell_type": "code",
   "execution_count": null,
   "outputs": [],
   "source": [
    "g = seaborn.catplot(x=\"pred_nr\", y=\"ms_ssim-scaled\", hue=\"z_bin\", col=\"z_bin\", col_wrap=4,\n",
    "                capsize=.2, palette=\"YlGnBu_d\", height=3, aspect=1.0,\n",
    "                kind=\"point\", data=df)"
   ],
   "metadata": {
    "collapsed": false,
    "pycharm": {
     "name": "#%%\n"
    }
   }
  },
  {
   "cell_type": "code",
   "execution_count": null,
   "outputs": [],
   "source": [
    "g = seaborn.catplot(x=\"pred_nr\", y=\"ssim-scaled\", hue=\"z_bin\", col=\"z_bin\", col_wrap=4,\n",
    "                capsize=.2, palette=\"YlGnBu_d\", height=3, aspect=1.0,\n",
    "                kind=\"point\", data=df)"
   ],
   "metadata": {
    "collapsed": false,
    "pycharm": {
     "name": "#%%\n"
    }
   }
  },
  {
   "cell_type": "code",
   "execution_count": null,
   "outputs": [],
   "source": [
    "g = seaborn.catplot(x=\"pred_nr\", y=\"smooth_l1_loss-scaled\", hue=\"z_bin\", col=\"z_bin\", col_wrap=4,\n",
    "                capsize=.2, palette=\"YlGnBu_d\", height=3, aspect=1.0,\n",
    "                kind=\"point\", data=df)"
   ],
   "metadata": {
    "collapsed": false,
    "pycharm": {
     "name": "#%%\n"
    }
   }
  },
  {
   "cell_type": "code",
   "execution_count": null,
   "outputs": [],
   "source": [
    "g = seaborn.catplot(x=\"pred_nr\", y=\"nrmse-scaled\", hue=\"z_bin\", col=\"z_bin\", col_wrap=4,\n",
    "                capsize=.2, palette=\"YlGnBu_d\", height=3, aspect=1.0,\n",
    "                kind=\"point\", data=df)"
   ],
   "metadata": {
    "collapsed": false,
    "pycharm": {
     "name": "#%%\n"
    }
   }
  },
  {
   "cell_type": "code",
   "execution_count": null,
   "outputs": [],
   "source": [
    "g = seaborn.catplot(x=\"pred_nr\", y=\"psnr-scaled\", hue=\"z_bin\", col=\"z_bin\", col_wrap=4,\n",
    "                capsize=.2, palette=\"YlGnBu_d\", height=3, aspect=1.0,\n",
    "                kind=\"point\", data=df)"
   ],
   "metadata": {
    "collapsed": false,
    "pycharm": {
     "name": "#%%\n"
    }
   }
  },
  {
   "cell_type": "code",
   "execution_count": null,
   "outputs": [],
   "source": [
    "g = seaborn.catplot(x=\"pred_nr\", y=\"mse_loss-scaled\", hue=\"z_bin\", col=\"z_bin\", col_wrap=4,\n",
    "                capsize=.2, palette=\"YlGnBu_d\", height=3, aspect=1.0,\n",
    "                kind=\"point\", data=df)"
   ],
   "metadata": {
    "collapsed": false,
    "pycharm": {
     "name": "#%%\n"
    }
   }
  },
  {
   "cell_type": "code",
   "execution_count": null,
   "outputs": [],
   "source": [
    "# other plot drafts"
   ],
   "metadata": {
    "collapsed": false,
    "pycharm": {
     "name": "#%%\n"
    }
   }
  },
  {
   "cell_type": "code",
   "execution_count": null,
   "outputs": [],
   "source": [
    "# g = seaborn.lmplot(\n",
    "#     data=df_bins,\n",
    "#     x=\"pred_nr\", y=\"ms_ssim-scaled\", hue=\"z_bin\",\n",
    "#     height=5\n",
    "# )\n",
    "\n",
    "# # Show the results of a linear regression within each dataset\n",
    "# seaborn.lmplot(x=\"pred_nr\", y=\"ms_ssim-scaled\", col=\"z_bin\", hue=\"z_bin\", data=df_bins,\n",
    "#            col_wrap=3, ci=None, palette=\"muted\", height=4,\n",
    "#            scatter_kws={\"s\": 50, \"alpha\": 1})\n",
    "\n",
    "\n"
   ],
   "metadata": {
    "collapsed": false,
    "pycharm": {
     "name": "#%%\n"
    }
   }
  },
  {
   "cell_type": "code",
   "execution_count": null,
   "outputs": [],
   "source": [
    "\n"
   ],
   "metadata": {
    "collapsed": false,
    "pycharm": {
     "name": "#%%\n"
    }
   }
  }
 ],
 "metadata": {
  "kernelspec": {
   "display_name": "Python 3",
   "language": "python",
   "name": "python3"
  },
  "language_info": {
   "codemirror_mode": {
    "name": "ipython",
    "version": 3
   },
   "file_extension": ".py",
   "mimetype": "text/x-python",
   "name": "python",
   "nbconvert_exporter": "python",
   "pygments_lexer": "ipython3",
   "version": "3.7.8"
  }
 },
 "nbformat": 4,
 "nbformat_minor": 4
}