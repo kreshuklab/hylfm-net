{
 "cells": [
  {
   "cell_type": "code",
   "execution_count": null,
   "metadata": {},
   "outputs": [],
   "source": [
    "%load_ext autoreload\n",
    "%autoreload 2\n",
    "\n",
    "from pathlib import Path\n",
    "from pprint import pprint\n",
    "\n",
    "import numpy\n",
    "import pandas\n",
    "# import napari\n",
    "import seaborn\n",
    "import torch\n",
    "from imageio import imread\n",
    "from ruamel.yaml import YAML\n",
    "from tqdm import tqdm\n",
    "import matplotlib\n",
    "import matplotlib.pyplot as plt\n",
    "\n",
    "from hylfm.eval.metrics import compute_metrics_individually, init_metrics\n",
    "yaml = YAML(typ=\"safe\")"
   ]
  },
  {
   "cell_type": "code",
   "execution_count": null,
   "metadata": {
    "pycharm": {
     "name": "#%%\n"
    }
   },
   "outputs": [],
   "source": [
    "seaborn.set_style(\"darkgrid\")\n",
    "seaborn.set_context(\"notebook\")  # paper, notebook, talk, poster"
   ]
  },
  {
   "cell_type": "code",
   "execution_count": null,
   "metadata": {},
   "outputs": [],
   "source": [
    "# root = Path(\"/g/kreshuk/beuttenm/pycharm_tmp/repos/hylfm-net/logs/test/heart/z_out49/contin_validate_f4/20-11-10_14-02-53\")\n",
    "# z_offset = 29\n",
    "# zmod = 139\n",
    "# validation_step_dirs = sorted(root.glob(\"test_dynamic_*/run000\"))\n",
    "root = Path(\"/g/kreshuk/beuttenm/pycharm_tmp/repos/hylfm-net/logs/train/heart/z_out49/dualview_single_lfm_static_f4_center49/20-11-09_18-09-02\")\n",
    "z_offset = 29\n",
    "zmod = 189\n",
    "validation_step_dirs = sorted(root.glob(\"validate_train_01/run*\"))[:-1]\n",
    "\n",
    "\n",
    "assert root.exists(), root\n",
    "pprint([p.name for p in validation_step_dirs])\n",
    "\n",
    "metrics_config = yaml.load(Path(\"/g/kreshuk/beuttenm/pycharm_tmp/repos/hylfm-net/configs/metrics/heart_dynamic.yml\"))\n",
    "metrics_instances = init_metrics(metrics_config)"
   ]
  },
  {
   "cell_type": "code",
   "execution_count": null,
   "metadata": {},
   "outputs": [],
   "source": [
    "ls_slices = numpy.stack([imread(p) for p in sorted(validation_step_dirs[0].glob(\"ds0-0/ls_slice/*.tif\"))])\n",
    "print(ls_slices.shape, flush=True)\n",
    "assert (ls_slices.shape[0] % zmod) == 0, (ls_slices.shape[0], zmod)\n",
    "all_preds = []\n",
    "for step_dir in tqdm(validation_step_dirs):\n",
    "    preds = numpy.stack([imread(p) for p in sorted(step_dir.glob(\"ds0-0/pred/*.tif\"))])\n",
    "    assert preds.shape == ls_slices.shape, (preds.shape, ls_slices.shape)\n",
    "    all_preds.append(preds)"
   ]
  },
  {
   "cell_type": "code",
   "execution_count": null,
   "metadata": {},
   "outputs": [],
   "source": [
    "data = None\n",
    "for pred_nr, preds in enumerate(tqdm(all_preds)):\n",
    "    for step, (pred, ls_slice) in enumerate(zip(preds, ls_slices)):\n",
    "        # add batch and channel dim\n",
    "        pred = pred[None, None]\n",
    "        ls_slice = ls_slice[None, None]\n",
    "\n",
    "        tensors = {\"pred\": torch.from_numpy(pred), \"ls_slice\": torch.from_numpy(ls_slice)}\n",
    "        computed_metrics = {k: m.value for k, m in compute_metrics_individually(metrics_instances, tensors).items()}\n",
    "        computed_metrics[\"step\"] = step\n",
    "        computed_metrics[\"z\"] = step % zmod\n",
    "        computed_metrics[\"pred_nr\"] = pred_nr\n",
    "        if data is None:\n",
    "            data = {k: [v] for k, v in computed_metrics.items()}\n",
    "        else:\n",
    "            for mk, mv in computed_metrics.items():\n",
    "                data[mk].append(mv)"
   ]
  },
  {
   "cell_type": "code",
   "execution_count": null,
   "metadata": {},
   "outputs": [],
   "source": [
    "df = pandas.DataFrame.from_dict(data)\n",
    "df.tail()"
   ]
  },
  {
   "cell_type": "code",
   "execution_count": null,
   "metadata": {},
   "outputs": [],
   "source": [
    "# nbins = 8\n",
    "# df['z_bin'] = pandas.cut(df['z'], bins=nbins, labels=numpy.arange(nbins))\n",
    "# df.head()"
   ]
  },
  {
   "cell_type": "code",
   "execution_count": null,
   "metadata": {},
   "outputs": [],
   "source": [
    "df[\"z\"] = (df[\"step\"] % zmod) + z_offset\n",
    "df[\"frame\"] = df[\"pred_nr\"] * 241 + df[\"step\"] % zmod + z_offset # + (df[\"step\"] // zmod) * 241\n",
    "df[\"swipe_through\"] = df[\"step\"] // zmod\n",
    "df[\"time [s]\"] = df[\"frame\"] * 0.025\n",
    "df.tail(50)"
   ]
  },
  {
   "cell_type": "code",
   "execution_count": null,
   "metadata": {},
   "outputs": [],
   "source": [
    "df_filtered = df\n",
    "df_filtered = df[df.pred_nr < 5]\n",
    "df_filtered.z.min()"
   ]
  },
  {
   "cell_type": "code",
   "execution_count": null,
   "metadata": {
    "scrolled": false
   },
   "outputs": [],
   "source": [
    "def plot_scans_grid(metric: str):\n",
    "    seaborn.set_style(\"darkgrid\", {\"axes.facecolor\": \".8\"})\n",
    "    seaborn.set_context(\"talk\")  # paper, notebook, talk, poster\n",
    "    cmap_name = \"viridis\"\n",
    "    g = seaborn.relplot(x=\"z\", y=metric, hue=\"z\", legend=False, col=\"pred_nr\", row=\"swipe_through\",\n",
    "                    palette=cmap_name, height=7, aspect=2,\n",
    "                    kind=\"scatter\", data=df_filtered)\n",
    "#     for ax in g.axes:\n",
    "#         g.fig.colorbar(matplotlib.cm.ScalarMappable(matplotlib.colors.Normalize(vmin=z_offset, vmax=df[\"z\"].max()+z_offset, clip=False), cmap=cmap_name), label='z', ax=ax)\n",
    "#         ax.set_xlim([-z_range_value * 1.1, z_range_value * 1.1])\n",
    "#         ax.set_ylim([-z_range_value * 1.1, z_range_value * 1.1])\n",
    "#         ax.plot(ax.get_xlim(), ax.get_ylim(), ls=\"--\", c=\".3\")\n",
    "#     g.fig.colorbar(matplotlib.cm.ScalarMappable(matplotlib.colors.Normalize(vmin=z_offset, vmax=df[\"z\"].max()+z_offset, clip=False), cmap=cmap_name), label='z')\n",
    "#     g.fig.axes[0].set_xlim(0, 9399*0.025)\n",
    "#     g.fig.tight_layout()\n",
    "    root = Path(\"refine_lfd_training_plots\")\n",
    "    root.mkdir(exist_ok=True)\n",
    "    g.fig.savefig(root / f\"{metric}.png\")\n",
    "#     g.add_legend()\n",
    "\n",
    "plot_scans_grid(\"ms_ssim-scaled\")"
   ]
  },
  {
   "cell_type": "code",
   "execution_count": null,
   "metadata": {
    "scrolled": false
   },
   "outputs": [],
   "source": [
    "def plot_scans(metric: str):\n",
    "    seaborn.set_style(\"darkgrid\", {\"axes.facecolor\": \".8\"})\n",
    "    seaborn.set_context(\"talk\")  # paper, notebook, talk, poster\n",
    "    cmap_name = \"viridis\"\n",
    "    g = seaborn.relplot(x=\"time [s]\", y=metric, hue=\"z\", legend=False,\n",
    "                    palette=cmap_name, height=7, aspect=7,\n",
    "                    kind=\"scatter\", data=df_filtered)\n",
    "    g.fig.colorbar(matplotlib.cm.ScalarMappable(matplotlib.colors.Normalize(vmin=z_offset, vmax=df[\"z\"].max()+z_offset, clip=False), cmap=cmap_name), label='z')\n",
    "#     g.fig.axes[0].set_xlim(0, 9399*0.025)\n",
    "    g.fig.tight_layout()\n",
    "    root = Path(\"refine_lfd_training_plots\")\n",
    "    root.mkdir(exist_ok=True)\n",
    "    g.fig.savefig(root / f\"{metric}.png\")\n",
    "\n",
    "plot_scans(\"ms_ssim-scaled\")"
   ]
  },
  {
   "cell_type": "code",
   "execution_count": null,
   "metadata": {
    "scrolled": false
   },
   "outputs": [],
   "source": [
    "plot_scans(\"ms_ssim-scaled\")\n",
    "plot_scans(\"ssim-scaled\")\n",
    "plot_scans(\"nrmse-scaled\")\n",
    "plot_scans(\"psnr-scaled\")\n",
    "plot_scans(\"mse_loss-scaled\")\n",
    "plot_scans(\"smooth_l1_loss-scaled\")"
   ]
  },
  {
   "cell_type": "code",
   "execution_count": null,
   "metadata": {
    "pycharm": {
     "name": "#%%\n"
    }
   },
   "outputs": [],
   "source": [
    "# df_bins = df.groupby([\"z_bin\", \"pred_nr\"]).mean().reset_index()\n",
    "# df_bins.head()\n",
    "# g = seaborn.catplot(x=\"pred_nr\", y=\"ms_ssim-scaled\", hue=\"pred_nr\",\n",
    "#                 capsize=.2, palette=\"YlGnBu_d\", height=3, aspect=1.0,\n",
    "#                 kind=\"point\", data=df)"
   ]
  }
 ],
 "metadata": {
  "kernelspec": {
   "display_name": "Python 3",
   "language": "python",
   "name": "python3"
  },
  "language_info": {
   "codemirror_mode": {
    "name": "ipython",
    "version": 3
   },
   "file_extension": ".py",
   "mimetype": "text/x-python",
   "name": "python",
   "nbconvert_exporter": "python",
   "pygments_lexer": "ipython3",
   "version": "3.7.7"
  }
 },
 "nbformat": 4,
 "nbformat_minor": 4
}
